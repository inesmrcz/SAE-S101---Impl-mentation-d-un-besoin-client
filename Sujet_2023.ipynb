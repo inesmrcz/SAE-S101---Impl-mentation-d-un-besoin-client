{
 "cells": [
  {
   "cell_type": "markdown",
   "metadata": {
    "deletable": false,
    "editable": false
   },
   "source": [
    "# <center> Santa Claus needs you!</center>\n",
    "<center> SAE 1.01 / 2023 - 24 </center>\n",
    "\n"
   ]
  },
  {
   "cell_type": "markdown",
   "metadata": {
    "deletable": false,
    "editable": false
   },
   "source": [
    "**Attendus**\n",
    "\n",
    "Les attendus de cette SAE sont que vous appreniez à \n",
    "- respecter un cahier des charges ;\n",
    "- écrire un code de qualité : efficace, lisible, documenté et testé sauf quand il s'agit d'affichages, de saisies ou de tirages aléatoires ;\n",
    " - travailler en groupe sur un projet : cette SAE est à faire en **binôme**. Vous devez néanmoins comprendre et connaître la totalité de ce qui est produit par le binôme.\n",
    "\n",
    "\n",
    "**Calendrier**\n",
    "- Le projet est à rendre au plus tard le vendredi **10 novembre** 2023. Les modalités de rendu vous seront précisées par votre enseignant.\n",
    "- Un contrôle de 2h en lien avec le contenu de cette SAE aura lieu le vendredi **10 novembre** 2023.\n",
    "\n",
    "**Evaluation**\n",
    "- Le projet comptera pour 40% de la note de SAE 1.01. <BR>\n",
    "Il sera particulièrement tenu compte de la qualité du code, des **commentaires** et **docstrings**, des fonctions de **tests unitaires** pour les fonctions renvoyant des résultats. <BR><BR>\n",
    "    \n",
    "- Le contrôle compte pour 60% de la note finale."
   ]
  },
  {
   "cell_type": "markdown",
   "metadata": {
    "deletable": false,
    "editable": false
   },
   "source": [
    "## <center> Sujet </center>\n",
    "\n",
    "Le Père Noël se fait vieux, il a besoin d'aider pour organiser sa distribution de cadeaux. Il vous prend à l'essai...\n",
    "\n",
    "L'objectif est de chercher une tournée des villes minimisant la distance parcourue par les rennes du Père Noël."
   ]
  },
  {
   "cell_type": "markdown",
   "metadata": {
    "deletable": false,
    "editable": false
   },
   "source": [
    "On décide de stocker les données sur les villes à visiter dans un tableau `villes` de chaînes de caractères et de flottants contenant successivement une ville (sous forme d'une chaîne de caractères), sa longitude et sa latitude (des flottants) en dégrés décimaux (DD) de sorte que `villes[3*i]` a pour longitude  `villes[3*i+1]` et pour latitude `villes[3*i+2]`.\n",
    "\n",
    "On suppose que chaque ville n'est présente qu'une seule fois dans le tableau.\n",
    "\n",
    "**Exemple** : "
   ]
  },
  {
   "cell_type": "code",
   "execution_count": 1,
   "metadata": {
    "deletable": false,
    "editable": false,
    "scrolled": true
   },
   "outputs": [],
   "source": [
    "villes = [\"Paris\",2.33,48.86, \"Lyon\",4.85,45.75, \n",
    "          \"Marseille\", 5.40,43.30, \"Lille\",3.06,50.63, \n",
    "          \"Strasbourg\",7.75,48.57, \"Rennes\",-1.66,48.11, \n",
    "          \"Clermont-Ferrand\",3.08,45.77, \"Bordeaux\", -0.57, 44.83]"
   ]
  },
  {
   "cell_type": "markdown",
   "metadata": {
    "deletable": false,
    "editable": false
   },
   "source": [
    "Ainsi\n",
    "- Paris a une longitude de 2,33 DD et une latitude de 48,86 DD.\n",
    "- Rennes a une longitude de -1,66 DD et une latitude de 48,11 DD."
   ]
  },
  {
   "cell_type": "markdown",
   "metadata": {
    "deletable": false,
    "editable": false
   },
   "source": [
    "#### Question préliminaire : Représentation des villes par un tableau\n",
    "\n",
    "- Ajouter dans le tableau précédent Toulouse dont la longitude est 1,43 DD et la latitude est 43,60 DD, ainsi que Grenoble dont la longitude est 5,72 DD et la latitude est 45,18 DD."
   ]
  },
  {
   "cell_type": "code",
   "execution_count": 2,
   "metadata": {
    "scrolled": true
   },
   "outputs": [
    {
     "name": "stdout",
     "output_type": "stream",
     "text": [
      "['Paris', 2.33, 48.86, 'Lyon', 4.85, 45.75, 'Marseille', 5.4, 43.3, 'Lille', 3.06, 50.63, 'Strasbourg', 7.75, 48.57, 'Rennes', -1.66, 48.11, 'Clermont-Ferrand', 3.08, 45.77, 'Bordeaux', -0.57, 44.83, 'Toulouse', 1.43, 43.6, 'Grenoble', 5.72, 45.18]\n"
     ]
    }
   ],
   "source": [
    "villes.append(\"Toulouse\")\n",
    "villes.append(1.43)\n",
    "villes.append(43.60)\n",
    "villes.append(\"Grenoble\")\n",
    "villes.append(5.72)\n",
    "villes.append(45.18)\n",
    "\n",
    "print (villes)"
   ]
  },
  {
   "cell_type": "markdown",
   "metadata": {
    "deletable": false,
    "editable": false
   },
   "source": [
    "#### Question 1 : Nombre de villes à visiter\n",
    "\n",
    "- Étant donné un tableau `villes`, écrire une fonction `nb_villes(villes)` qui retourne le nombre de villes à visiter contenues dans le tableau `villes`. \n",
    "- Ecrire une fonction de tests unitaires permettant de vérifier cette fonction. "
   ]
  },
  {
   "cell_type": "code",
   "execution_count": 13,
   "metadata": {
    "scrolled": true
   },
   "outputs": [
    {
     "name": "stdout",
     "output_type": "stream",
     "text": [
      "10.0\n",
      "Tout est bon.\n"
     ]
    }
   ],
   "source": [
    "def nb_villes(villes):\n",
    "    \"\"\"\n",
    "    La fonction prend en paramètres un tableau contenant des villes et leurs informations et \n",
    "    renvoie uniquement le nombre de villes contenues dans ce dernier.\n",
    "    \"\"\"\n",
    "    return len(villes)/3 \n",
    "\n",
    "print(nb_villes(villes))\n",
    "\n",
    "def test_nb_villes():\n",
    "    assert nb_villes(villes)==10\n",
    "    assert nb_villes([])==0\n",
    "    assert nb_villes(['Lyon', 4.85, 45.75, 'Marseille', 5.4, 43.3, 'Lille', 3.06, 50.63])==3, 'Le tableau est vide'\n",
    "    print(\"Tout est bon.\")\n",
    "\n",
    "test_nb_villes()"
   ]
  },
  {
   "cell_type": "markdown",
   "metadata": {
    "deletable": false,
    "editable": false
   },
   "source": [
    "#### Question 2 : Tableaux des noms de villes à visiter\n",
    "\n",
    "- Étant donné un tableau `villes`, écrire une fonction `noms_villes(villes)` qui retourne le tableau des noms des villes à visiter contenues dans le tableau `villes`. \n",
    "- Ecrire une fonction de tests unitaires permettant de vérifier cette fonction. "
   ]
  },
  {
   "cell_type": "code",
   "execution_count": 15,
   "metadata": {},
   "outputs": [
    {
     "name": "stdout",
     "output_type": "stream",
     "text": [
      "Le tableau est vide.\n",
      "Tout est bon.\n"
     ]
    }
   ],
   "source": [
    "def noms_villes(villes):\n",
    "    \"\"\"\n",
    "    La fonction prend en paramètres un tableau contenant des villes et leurs informations et \n",
    "    renvoie uniquement le nom de chacunes des villes contenues dans ce dernier.\n",
    "    \"\"\"\n",
    "    \n",
    "    noms = [] # Initialisation d'un tableau vide\n",
    "    i=0\n",
    "    if len(villes)==0: # On vérifie que le tableau passé en paramètres ne soit pas vide\n",
    "        return 'Le tableau est vide.'\n",
    "        \n",
    "    while i<len(villes):\n",
    "        noms.append(villes[i]) # On ajoute le nom de la ville d'indice dans le tableau noms\n",
    "        i+=3\n",
    "    return noms\n",
    "print(noms_villes([]))\n",
    "\n",
    "def test_noms_villes():\n",
    "    assert noms_villes(villes)==['Paris', 'Lyon', 'Marseille', 'Lille', 'Strasbourg', 'Rennes', 'Clermont-Ferrand', 'Bordeaux', 'Toulouse', 'Grenoble']\n",
    "    assert noms_villes([])=='Le tableau est vide.'\n",
    "    assert noms_villes(['Lyon', 4.85, 45.75, 'Marseille', 5.4, 43.3, 'Lille', 3.06, 50.63])==['Lyon', 'Marseille', 'Lille']\n",
    "    print(\"Tout est bon.\")\n",
    "\n",
    "test_noms_villes()\n",
    "\n"
   ]
  },
  {
   "cell_type": "markdown",
   "metadata": {
    "deletable": false,
    "editable": false
   },
   "source": [
    "#### Question 3 : Distance entre deux villes repérées par leurs longitude et latitude\n",
    "\n",
    "Pour calculer la distance $d$ entre deux villes $V_1$ (de longitude $long1$ et de latitude $lat1$) et $V_2$ (de longitude $long2$ et de latitude $lat2$) à partir de leurs longitude et latitude, on peut utiliser la formule suivante :\n",
    "\n",
    "$d=R*arccos(sin(lat1)*sin(lat2)+cos(lat1)*cos(lat2)*cos(long2-long1))$\n",
    "\n",
    "où le rayon de la terre $R$ vaut 6370.7km et les latitudes et longitudes sont exprimées en radians (en non en degrés décimaux).\n",
    "Cela correspond à la méthode de calcul avec la loi des sinus décrite [ici](http://villemin.gerard.free.fr/aGeograp/Distance.htm) \n",
    "\n",
    "Par exemple, Paris et Marseille sont distantes de 661,86 km.\n",
    "\n",
    "- Ecrire une fonction `distance(long1,lat1,long2,lat2)` qui calcule et retourne la distance entre deux villes $V_1$ (de longitude `long1` et `lat1`) et $V_2$ (de `long2`et `lat2`).\n",
    "\n",
    "**NB** Les fonctions `sin`, `cos` et le nombre `pi` sont définis dans la bibliothèque `math`. La fonction `arcos` est définie dans la bibliothèque `numpy`.\n",
    "\n",
    "Pour **convertir des degrés en radians**, il faut multiplier par $\\pi/180$.\n",
    "\n",
    "\n",
    "- Ecrire une fonction de tests unitaire permettant de vérifier cette fonction."
   ]
  },
  {
   "cell_type": "code",
   "execution_count": 30,
   "metadata": {
    "scrolled": true
   },
   "outputs": [
    {
     "name": "stdout",
     "output_type": "stream",
     "text": [
      "661.86\n",
      "Tout est bon.\n"
     ]
    }
   ],
   "source": [
    "from math import*\n",
    "from numpy import*\n",
    "\n",
    "def distance(long1,lat1,long2,lat2):\n",
    "    \"\"\"\n",
    "    La fonction prend en paramètres la longitude et la latitude de deux villes\n",
    "    en renvoie la distance arrondie au centième, entre ces deux dernières\n",
    "    \"\"\"\n",
    "    \n",
    "    long1r=long1*pi/180\n",
    "    lat1r=lat1*pi/180\n",
    "    long2r=long2*pi/180\n",
    "    lat2r=lat2*pi/180\n",
    "    r=6370.7  #Correspond au rayon de la Terre\n",
    "    dis=r*arccos(sin(lat1r)*sin(lat2r)+cos(lat1r)*cos(lat2r)*cos(long2r-long1r)) #Correspond à la distance entre les deux villes\n",
    "    return round(dis, 2) #Correspond à la distance arrondie au centième, entre les deux villes\n",
    "\n",
    "print(distance(2.33, 48.86, 5.4, 43.3))\n",
    "\n",
    "def test_distance():\n",
    "    assert isclose(distance(2.33, 48.86, 5.4, 43.3), 661.86)\n",
    "    assert isclose(distance(5.4, 43.3, 5.4, 43.3), 0.0)\n",
    "    print(\"Tout est bon.\")\n",
    "\n",
    "test_distance()\n",
    "    \n",
    "    "
   ]
  },
  {
   "cell_type": "markdown",
   "metadata": {
    "deletable": false,
    "editable": false
   },
   "source": [
    "#### Question 4 : Coordonnées d'une ville dans le tableau `villes`\n",
    "\n",
    "a) Ecrire une fonction `indexCity(ville, villes)` qui retourne la position (l'indice) de la `ville` passée en paramètre dans le tableau `villes`. Elle retournera `-1` si la ville passée en paramètre n'est pas dans le tableau. Cette information pourra être utilisée dans la suite pour trouver la longitude et la latitude d'une ville donnée par son nom.\n",
    "\n",
    "Par exemple, \n",
    "- l'instruction `indexCity(\"Paris\", villes)` retournera `0`,\n",
    "- l'instruction `indexCity(\"Clermont-Ferrand\",villes)` retournera  `18`,\n",
    "- et l'instruction `indexCity(\"Villetaneuse\",villes)` retournera  `-1`.\n",
    "\n",
    "b) Ecrire une fonction de tests unitaire permettant de vérifier cette fonction."
   ]
  },
  {
   "cell_type": "code",
   "execution_count": 22,
   "metadata": {
    "scrolled": true
   },
   "outputs": [
    {
     "name": "stdout",
     "output_type": "stream",
     "text": [
      "0\n",
      "Tout est bon.\n"
     ]
    }
   ],
   "source": [
    "def indexCity(ville, villes):\n",
    "    \"\"\"\n",
    "    La fonction prend en paramètres le nom d'une ville, \n",
    "    ainsi qu'un tableau contenant les noms des villes et leurs informations \n",
    "    et renvoie la position de la ville dans le tableau si elle y est.\n",
    "    \"\"\"\n",
    "    \n",
    "    i=0\n",
    "    while i<len(villes):\n",
    "        if villes[i] == ville :\n",
    "            return i\n",
    "        else :\n",
    "            i+=3\n",
    "    return -1 # On renvoie -1 si la ville ne figure pas dans le tableau\n",
    "        \n",
    "            \n",
    "print(indexCity(\"Paris\",villes))\n",
    "\n",
    "def test_indexCity():\n",
    "    assert indexCity(\"Paris\", villes)==0\n",
    "    assert indexCity(\"Villetaneuse\", villes)==-1\n",
    "    assert indexCity(\"Lyon\", ['Lyon', 4.85, 45.75, 'Marseille', 5.4, 43.3, 'Lille', 3.06, 50.63])==0\n",
    "    print(\"Tout est bon.\")\n",
    "\n",
    "test_noms_villes()\n",
    "\n",
    "\n"
   ]
  },
  {
   "cell_type": "markdown",
   "metadata": {
    "deletable": false,
    "editable": false
   },
   "source": [
    "#### Question 5 : Distance entre deux villes données par leurs noms\n",
    "\n",
    "- Ecrire une fonction `distance_noms(nom1,nom2, villes)` qui calcule et retourne la distance entre deux villes $V_1$ et $V_2$ appelées `nom1` et `nom2` dans le tableau `villes`. La fonction retournera `-1` si une de ces villes n'est pas dans le tableau.\n",
    "- Ecrire une fonction de tests unitaires permettant de vérifier cette fonction."
   ]
  },
  {
   "cell_type": "code",
   "execution_count": 31,
   "metadata": {
    "scrolled": true
   },
   "outputs": [
    {
     "name": "stdout",
     "output_type": "stream",
     "text": [
      "661.86\n",
      "Tout est bon.\n"
     ]
    }
   ],
   "source": [
    "from math import*\n",
    "\n",
    "def distance_noms(nom1, nom2, villes):\n",
    "    \"\"\"\n",
    "    La fonction prend en paramètres les noms de deux villes, \n",
    "    ainsi qu'un tableau et retourne la distance entre ces deux villes\n",
    "    si elles figurent dans le tableau.\n",
    "    \"\"\"\n",
    "    if nom1 in villes and nom2 in villes:\n",
    "        ville1=indexCity(nom1, villes)\n",
    "        ville2=indexCity(nom2, villes)\n",
    "        return distance(villes[ville1+1], villes[ville1+2], villes[ville2+1], villes[ville2+2])\n",
    "    else:\n",
    "        return -1 # On retourne -1 si l'une des deux villes n'est pas dans le tableau\n",
    "\n",
    "\n",
    "print (distance_noms('Paris', 'Marseille', villes))\n",
    "\n",
    "\n",
    "def test_distance_noms():\n",
    "    assert distance_noms('Paris', 'Villetaneuse', villes)==-1\n",
    "    assert isclose(distance_noms('Paris', 'Marseille', villes), 661.86)\n",
    "    print(\"Tout est bon.\")\n",
    "\n",
    "\n",
    "test_distance_noms()\n",
    "\n",
    "\n",
    "\n"
   ]
  },
  {
   "cell_type": "markdown",
   "metadata": {
    "deletable": false,
    "editable": false
   },
   "source": [
    "#### Question 6 :  Lecture des villes d'une tournée à partir d'un fichier\n",
    "On suppose que les données sur les villes où doit se rendre le Père Noël réseau sont stockées dans un fichier CSV de la manière suivante :\n",
    "```\n",
    "ville1;longitude1;latitude1\n",
    "ville2;longitude2;latitude2\n",
    "ville3;longitude3;latitude3\n",
    "...\n",
    "```\n",
    "Autrement dit, chaque ligne du fichier contient le nom d'une ville, sa longitude et sa latitude en degrés décimaux, ces données étant séparées par des `';'`. Ces villes sont celles que le Père Noël doit desservir\n",
    "\n",
    "**NB** : Six fichiers CSV de ce type sont fournis dans le répertoire `files/`, il s'agit des fichiers `africa.csv`, `asia.csv`,`europe.csv`, `north-america`, `oceania.csv` and `south-america.csv`. \n",
    "Il est recommandé d'en fabriquer d'autres. \n",
    "\n",
    "- Ecrire une fonction `lecture_villes(path)` prenant en paramètre un chemin vers un tel fichier CSV et retournant un tableau contenant les informations sur les villes à visiter."
   ]
  },
  {
   "cell_type": "code",
   "execution_count": 45,
   "metadata": {},
   "outputs": [
    {
     "name": "stdout",
     "output_type": "stream",
     "text": [
      "[['Algiers', '3.04', '36.75'], ['Luanda', '13.23', '-8.84'], ['Porto-Novo', '2.6', '6.5'], ['Gaborone', '25.91', '-24.65'], ['Ouagadougou', '-1.53', '12.37'], ['Bujumbura', '29.36', '-3.38'], ['Yaoundé', '11.52', '3.87'], ['Praia', '-23.51', '14.93'], ['Bangui', '18.55', '4.36'], [\"N'Djamena\", '15.04', '12.11'], ['Moroni', '43.26', '-11.7'], ['Kinshasa', '15.31', '-4.32'], ['Djibouti', '43.15', '11.59'], ['Cairo', '31.25', '30.06'], ['Malabo', '8.78', '3.75'], ['Asmara', '38.93', '15.33'], ['Addis Ababa', '38.75', '9.02'], ['Libreville', '9.45', '0.39'], ['Banjul', '-16.58', '13.45'], ['Accra', '-0.2', '5.56'], ['Conakry', '-13.68', '9.54'], ['Bissau', '-15.6', '11.86'], ['Yamoussoukro', '-5.28', '6.82'], ['Nairobi', '36.82', '-1.28'], ['Maseru', '27.48', '-29.32'], ['Monrovia', '-10.8', '6.3'], ['Tripoli', '13.19', '32.88'], ['Antananarivo', '47.54', '-18.91'], ['Lilongwe', '33.79', '-13.97'], ['Bamako', '-8', '12.65'], ['Nouakchott', '-15.98', '18.09'], ['Port Louis', '57.5', '-20.16'], ['Mamoutzou', '45.23', '-12.78'], ['Rabat', '-6.83', '34.01'], ['Maputo', '32.58', '-25.97'], ['Windhoek', '17.08', '-22.56'], ['Niamey', '2.11', '13.51'], ['Abuja', '7.48', '9.07'], ['Brazzaville', '15.28', '-4.27'], ['Saint-Denis', '55.45', '-20.88'], ['Kigali', '30.06', '-1.95'], ['Jamestown', '-5.72', '-15.94'], ['São Tomé', '6.73', '0.34'], ['Dakar', '-17.44', '14.69'], ['Victoria', '55.45', '-4.62'], ['Freetown', '-13.23', '8.48'], ['Mogadishu', '45.34', '2.04'], ['Pretoria', '28.19', '-25.74'], ['Khartoum', '32.53', '15.55'], ['Mbabane', '31.13', '-26.32'], ['Dodoma', '35.74', '-6.17'], ['Lomé', '1.21', '6.14'], ['Tunis', '10.17', '36.82'], ['Kampala', '32.58', '0.32'], ['El Aaiún', '-13.2', '27.16'], ['Lusaka', '28.29', '-15.41'], ['Harare', '31.05', '-17.83']]\n"
     ]
    }
   ],
   "source": [
    "import csv\n",
    "def lecture_villes(path):\n",
    "    \"\"\"\n",
    "    La fonction prend en paramètre un chemin vers un fichier CSV\n",
    "    et renvoie les informations des villes contenues dans ce fichier, \n",
    "    dans un tableau.\n",
    "    \"\"\"\n",
    "    \n",
    "    f=open(path, 'r', encoding='utf-8') # On ouvre le fichier\n",
    "    info=f.readlines() # On lit le fichier ligne par ligne\n",
    "    f.close() # On referme le fichier\n",
    "    info_villes=[] # On initialise un tableau vide\n",
    "    \n",
    "    i=0\n",
    "    while i<len(info):\n",
    "        li = info[i]\n",
    "        li=li.strip() # On enlève les éléments indésirables\n",
    "        info_villes.append(li) # On ajoute les infos de la ville dans le tableau\n",
    "        info_villes[i]=info_villes[i].split(';') # A chaque ';', on sépare les éléments et on retourne le tableau obtenu\n",
    "        i+=1\n",
    "    return info_villes\n",
    "\n",
    "print (lecture_villes('files/africa.csv'))"
   ]
  },
  {
   "cell_type": "markdown",
   "metadata": {
    "deletable": false,
    "editable": false
   },
   "source": [
    "#### Question 7 : Longueur d'une tournée\n",
    "\n",
    "On considère que le Père Noël peut partir de n'importe laquelle des villes qu'il doit visiter et qu'il doit revenir à son point de départ à la fin de la tournée. Lors de sa tournée, il doit visiter chacune des villes dont les informations sont contenues dans le tableau `villes` une fois et une seule. \n",
    "\n",
    "On représente une tournée possible sous la forme d'un tableau `tournee` contenant le nom des villes dans l'ordre où le Père Noël les visitera sans oublier de revenir à la ville dont il est parti. \n",
    "\n",
    "L'objectif est de calculer la longueur d'une tournée. \n",
    "\n",
    "- Ecrire une fonction `long_tour(villes, tournee)` qui prend en paramètres le tableau `villes` contenant les informations sur les villes à visiter et le tableau `tournee` indiquant l'ordre dans lequel les villes sont visitées. La fonction retourne la longueur de la tournée correspondante.\n",
    "\n",
    "- Ecrire une fonction de tests unitaires permettant de vérifier cette fonction."
   ]
  },
  {
   "cell_type": "code",
   "execution_count": 37,
   "metadata": {},
   "outputs": [
    {
     "name": "stdout",
     "output_type": "stream",
     "text": [
      "3950.78\n",
      "Tout est bon.\n"
     ]
    }
   ],
   "source": [
    "from math import*\n",
    "\n",
    "def long_tour(villes, tournee):\n",
    "    \"\"\"\n",
    "    La fonction prend en paramètres un tableau contenant des villes et leurs informations,\n",
    "    et un tableau dans lequel se trouve l'ordre de la tournée. Elle renvoie la longueur de la tournée contenue \n",
    "    dans ce dernier.\n",
    "    \"\"\"\n",
    "    longueur_tournee=0\n",
    "    i=0\n",
    "    if villes ==[] or tournee==[]: # On vérifie que les deux tableaux ne soient pas vides\n",
    "        return \"L'un des deux tableaux est vide\"\n",
    "        \n",
    "    while i!=len(tournee)-1:\n",
    "        dist=distance_noms(tournee[i], tournee[i+1], villes) # On calcule la distance entre les villes du tableau les unes après les autres\n",
    "        longueur_tournee+=dist\n",
    "        i+=1\n",
    "    return longueur_tournee\n",
    "\n",
    "tournee=['Paris', 'Lyon', 'Marseille', 'Lille', 'Strasbourg', 'Rennes', \n",
    "         'Clermont-Ferrand', 'Bordeaux', 'Toulouse', 'Grenoble']\n",
    "        \n",
    "print(long_tour(villes, tournee))\n",
    "\n",
    "def test_long_tour():\n",
    "    assert isclose(long_tour(villes, tournee), 3950.78)\n",
    "    assert long_tour(villes, [])== \"L'un des deux tableaux est vide\"\n",
    "    print(\"Tout est bon.\")\n",
    "\n",
    "test_long_tour()\n",
    "\n"
   ]
  },
  {
   "cell_type": "markdown",
   "metadata": {
    "deletable": false,
    "editable": false
   },
   "source": [
    "# Question 8 : Recherche d'une plus courte tournée \n",
    "\n",
    "Pour améliorer la longueur de la tournée, on peut essayer de changer l'ordre des villes aléatoirement. Pour une tournée donnée par un tableau `tournee` cela peut se faire avec la fonction `shuffle` de la bibliothèque `random` qui mélange aléatoirement les villes qui sont dans le tableau `tournee`, grâce à l'instruction  `shuffle(tournee)`, et ne retourne rien.\n",
    "\n",
    "- Utiliser cette fonction pour écrire un programme qui cherche une tournée plus courte à proposer au Père Noël. \n",
    "- Comment la solution s'améliore-t-elle en fonction de nombre de tentatives de mélange ? "
   ]
  },
  {
   "cell_type": "code",
   "execution_count": 42,
   "metadata": {
    "scrolled": true
   },
   "outputs": [
    {
     "name": "stdout",
     "output_type": "stream",
     "text": [
      "3950.78\n",
      "3162.9700000000003\n",
      "['Marseille', 'Grenoble', 'Strasbourg', 'Lyon', 'Toulouse', 'Paris', 'Bordeaux', 'Lille', 'Rennes', 'Clermont-Ferrand']\n"
     ]
    }
   ],
   "source": [
    "from random import*\n",
    "\n",
    "tournee=['Paris', 'Lyon', 'Marseille', 'Lille', 'Strasbourg', 'Rennes', \n",
    "         'Clermont-Ferrand', 'Bordeaux', 'Toulouse', 'Grenoble']\n",
    "\n",
    "tournee_min = long_tour(villes, tournee)\n",
    "print(tournee_min)\n",
    "essais = 100 # On fait 100 tentatives pour trouver la tournee la plus courte\n",
    "i = 0\n",
    "\n",
    "while i!= essais :\n",
    "    shuffle(tournee) # On mélange aléatoirement les villes du tableau tournee\n",
    "    tour2 = long_tour(villes, tournee) # On calcule la longueur de la nouvelle tournée\n",
    "    if tour2 < tournee_min: # On compare notre plus petite tournée avec la nouvelle\n",
    "        tournee_min=tour2 # Si elle est plus courte, la nouvelle tournée remplace la tournée minimale\n",
    "    i+=1\n",
    "\n",
    "print(tournee_min)\n",
    "print(tournee)\n",
    "\n",
    "# Plus on fait de tentatives, plus on a de chances de trouver une tournee plus courte"
   ]
  },
  {
   "cell_type": "markdown",
   "metadata": {},
   "source": [
    "#### Question Bonus (facultative) : Visualisation de la tournée proposée au Père Noël \n",
    "\n",
    "Pour faciliter le travail du Père Noël, vous décidez de lui fournir une carte où est représentée la tournée sélectionnée. \n",
    "\n",
    "Pour cela, on peut (mais ce ne n'est qu'une suggestion) utiliser la bibliothèque [`folium`](https://python-visualization.github.io/folium/latest/getting_started.html). Vous pouvez également utiliser tout autre bibliothèque de votre choix.\n",
    "\n",
    "- Ecrire un programme permettant la visualisation de la tournée proposée au Père Noël"
   ]
  },
  {
   "cell_type": "code",
   "execution_count": null,
   "metadata": {
    "scrolled": true
   },
   "outputs": [],
   "source": [
    "#-------------------------#\n",
    "#    Écrire le code ici   #\n",
    "#-------------------------#\n",
    "\n",
    "\n",
    "\n",
    "\n",
    "\n"
   ]
  }
 ],
 "metadata": {
  "kernelspec": {
   "display_name": "Python 3 (ipykernel)",
   "language": "python",
   "name": "python3"
  },
  "language_info": {
   "codemirror_mode": {
    "name": "ipython",
    "version": 3
   },
   "file_extension": ".py",
   "mimetype": "text/x-python",
   "name": "python",
   "nbconvert_exporter": "python",
   "pygments_lexer": "ipython3",
   "version": "3.8.18"
  },
  "latex_envs": {
   "LaTeX_envs_menu_present": true,
   "autoclose": false,
   "autocomplete": true,
   "bibliofile": "biblio.bib",
   "cite_by": "apalike",
   "current_citInitial": 1,
   "eqLabelWithNumbers": true,
   "eqNumInitial": 1,
   "hotkeys": {
    "equation": "Ctrl-E",
    "itemize": "Ctrl-I"
   },
   "labels_anchors": false,
   "latex_user_defs": false,
   "report_style_numbering": false,
   "user_envs_cfg": false
  }
 },
 "nbformat": 4,
 "nbformat_minor": 4
}
